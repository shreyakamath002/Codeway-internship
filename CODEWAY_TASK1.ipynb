{
 "cells": [
  {
   "cell_type": "markdown",
   "id": "e8cb43e5",
   "metadata": {},
   "source": [
    "# MOVIE GENRE CLASSIFICATION"
   ]
  },
  {
   "cell_type": "markdown",
   "id": "010328ac",
   "metadata": {},
   "source": [
    "# Importing libraries to be used "
   ]
  },
  {
   "cell_type": "code",
   "execution_count": 2,
   "id": "3c2f96e9",
   "metadata": {},
   "outputs": [],
   "source": [
    "import numpy as np                 # library for numerical operations                                                              \n",
    "import pandas as pd                # Used for data manipulation and analysis\n",
    "import matplotlib.pyplot as plt    # plotting library for creating interactive visualizations \n",
    "import seaborn as sns              # data visualization library for drawing attractive and informative statistical graphics\n",
    "import re                          # regular expression module for pattern matching with strings\n",
    "import string                      # module containing common string operations\n",
    "import nltk                        # Natural Language Toolkit, a library used to work with language data, includes tools for tokenization\n",
    "from nltk.corpus import stopwords  #  list of common stop words that can be filtered out in text processing\n",
    "from nltk.stem import LancasterStemmer    # stemming algorithm for reducing words to their base or root form\n",
    "from collections import Counter           #\n",
    "from sklearn.model_selection import train_test_split, GridSearchCV\n",
    "from sklearn.preprocessing import LabelEncoder\n",
    "\n",
    "from sklearn.feature_extraction.text import TfidfVectorizer\n",
    "from sklearn.linear_model import LogisticRegression\n",
    "from sklearn.svm import SVC\n",
    "from sklearn.naive_bayes import MultinomialNB\n",
    "from sklearn.metrics import accuracy_score, classification_report\n",
    "from sklearn.pipeline import Pipeline\n",
    "from tensorflow.keras.preprocessing.sequence import pad_sequences\n",
    "from tensorflow.keras.preprocessing.text import Tokenizer\n",
    "from tensorflow.keras.models import Sequential\n",
    "from tensorflow.keras.layers import Embedding, LSTM, Dense, Dropout, SpatialDropout1D\n",
    "from tensorflow.keras.callbacks import EarlyStopping"
   ]
  },
  {
   "cell_type": "code",
   "execution_count": 3,
   "id": "2a618e08",
   "metadata": {},
   "outputs": [
    {
     "data": {
      "text/html": [
       "<div>\n",
       "<style scoped>\n",
       "    .dataframe tbody tr th:only-of-type {\n",
       "        vertical-align: middle;\n",
       "    }\n",
       "\n",
       "    .dataframe tbody tr th {\n",
       "        vertical-align: top;\n",
       "    }\n",
       "\n",
       "    .dataframe thead th {\n",
       "        text-align: right;\n",
       "    }\n",
       "</style>\n",
       "<table border=\"1\" class=\"dataframe\">\n",
       "  <thead>\n",
       "    <tr style=\"text-align: right;\">\n",
       "      <th></th>\n",
       "      <th>Title</th>\n",
       "      <th>Genre</th>\n",
       "      <th>Description</th>\n",
       "    </tr>\n",
       "  </thead>\n",
       "  <tbody>\n",
       "    <tr>\n",
       "      <th>1</th>\n",
       "      <td>Oscar et la dame rose (2009)</td>\n",
       "      <td>drama</td>\n",
       "      <td>Listening in to a conversation between his do...</td>\n",
       "    </tr>\n",
       "    <tr>\n",
       "      <th>2</th>\n",
       "      <td>Cupid (1997)</td>\n",
       "      <td>thriller</td>\n",
       "      <td>A brother and sister with a past incestuous r...</td>\n",
       "    </tr>\n",
       "    <tr>\n",
       "      <th>3</th>\n",
       "      <td>Young, Wild and Wonderful (1980)</td>\n",
       "      <td>adult</td>\n",
       "      <td>As the bus empties the students for their fie...</td>\n",
       "    </tr>\n",
       "    <tr>\n",
       "      <th>4</th>\n",
       "      <td>The Secret Sin (1915)</td>\n",
       "      <td>drama</td>\n",
       "      <td>To help their unemployed father make ends mee...</td>\n",
       "    </tr>\n",
       "    <tr>\n",
       "      <th>5</th>\n",
       "      <td>The Unrecovered (2007)</td>\n",
       "      <td>drama</td>\n",
       "      <td>The film's title refers not only to the un-re...</td>\n",
       "    </tr>\n",
       "    <tr>\n",
       "      <th>6</th>\n",
       "      <td>Quality Control (2011)</td>\n",
       "      <td>documentary</td>\n",
       "      <td>Quality Control consists of a series of 16mm ...</td>\n",
       "    </tr>\n",
       "    <tr>\n",
       "      <th>7</th>\n",
       "      <td>\"Pink Slip\" (2009)</td>\n",
       "      <td>comedy</td>\n",
       "      <td>In tough economic times Max and Joey have all...</td>\n",
       "    </tr>\n",
       "    <tr>\n",
       "      <th>8</th>\n",
       "      <td>One Step Away (1985)</td>\n",
       "      <td>crime</td>\n",
       "      <td>Ron Petrie (Keanu Reeves) is a troubled teen ...</td>\n",
       "    </tr>\n",
       "    <tr>\n",
       "      <th>9</th>\n",
       "      <td>\"Desperate Hours\" (2016)</td>\n",
       "      <td>reality-tv</td>\n",
       "      <td>A sudden calamitous event, causing great loss...</td>\n",
       "    </tr>\n",
       "    <tr>\n",
       "      <th>10</th>\n",
       "      <td>Spirits (2014/I)</td>\n",
       "      <td>horror</td>\n",
       "      <td>Four high school students embark on a terrify...</td>\n",
       "    </tr>\n",
       "  </tbody>\n",
       "</table>\n",
       "</div>"
      ],
      "text/plain": [
       "                                 Title          Genre  \\\n",
       "1        Oscar et la dame rose (2009)          drama    \n",
       "2                        Cupid (1997)       thriller    \n",
       "3    Young, Wild and Wonderful (1980)          adult    \n",
       "4               The Secret Sin (1915)          drama    \n",
       "5              The Unrecovered (2007)          drama    \n",
       "6              Quality Control (2011)    documentary    \n",
       "7                  \"Pink Slip\" (2009)         comedy    \n",
       "8                One Step Away (1985)          crime    \n",
       "9            \"Desperate Hours\" (2016)     reality-tv    \n",
       "10                   Spirits (2014/I)         horror    \n",
       "\n",
       "                                          Description  \n",
       "1    Listening in to a conversation between his do...  \n",
       "2    A brother and sister with a past incestuous r...  \n",
       "3    As the bus empties the students for their fie...  \n",
       "4    To help their unemployed father make ends mee...  \n",
       "5    The film's title refers not only to the un-re...  \n",
       "6    Quality Control consists of a series of 16mm ...  \n",
       "7    In tough economic times Max and Joey have all...  \n",
       "8    Ron Petrie (Keanu Reeves) is a troubled teen ...  \n",
       "9    A sudden calamitous event, causing great loss...  \n",
       "10   Four high school students embark on a terrify...  "
      ]
     },
     "execution_count": 3,
     "metadata": {},
     "output_type": "execute_result"
    }
   ],
   "source": [
    "train_path='train_data.txt'\n",
    "train_data=pd.read_csv( train_path , sep=':::',engine='python',names=['Title','Genre','Description'])\n",
    "train_data.head(10)"
   ]
  },
  {
   "cell_type": "code",
   "execution_count": 4,
   "id": "04ec1371",
   "metadata": {},
   "outputs": [
    {
     "data": {
      "text/html": [
       "<div>\n",
       "<style scoped>\n",
       "    .dataframe tbody tr th:only-of-type {\n",
       "        vertical-align: middle;\n",
       "    }\n",
       "\n",
       "    .dataframe tbody tr th {\n",
       "        vertical-align: top;\n",
       "    }\n",
       "\n",
       "    .dataframe thead th {\n",
       "        text-align: right;\n",
       "    }\n",
       "</style>\n",
       "<table border=\"1\" class=\"dataframe\">\n",
       "  <thead>\n",
       "    <tr style=\"text-align: right;\">\n",
       "      <th></th>\n",
       "      <th>ID</th>\n",
       "      <th>Title</th>\n",
       "      <th>Description</th>\n",
       "    </tr>\n",
       "  </thead>\n",
       "  <tbody>\n",
       "    <tr>\n",
       "      <th>0</th>\n",
       "      <td>1</td>\n",
       "      <td>Edgar's Lunch (1998)</td>\n",
       "      <td>L.R. Brane loves his life - his car, his apar...</td>\n",
       "    </tr>\n",
       "    <tr>\n",
       "      <th>1</th>\n",
       "      <td>2</td>\n",
       "      <td>La guerra de papá (1977)</td>\n",
       "      <td>Spain, March 1964: Quico is a very naughty ch...</td>\n",
       "    </tr>\n",
       "    <tr>\n",
       "      <th>2</th>\n",
       "      <td>3</td>\n",
       "      <td>Off the Beaten Track (2010)</td>\n",
       "      <td>One year in the life of Albin and his family ...</td>\n",
       "    </tr>\n",
       "    <tr>\n",
       "      <th>3</th>\n",
       "      <td>4</td>\n",
       "      <td>Meu Amigo Hindu (2015)</td>\n",
       "      <td>His father has died, he hasn't spoken with hi...</td>\n",
       "    </tr>\n",
       "    <tr>\n",
       "      <th>4</th>\n",
       "      <td>5</td>\n",
       "      <td>Er nu zhai (1955)</td>\n",
       "      <td>Before he was known internationally as a mart...</td>\n",
       "    </tr>\n",
       "    <tr>\n",
       "      <th>5</th>\n",
       "      <td>6</td>\n",
       "      <td>Riddle Room (2016)</td>\n",
       "      <td>Emily Burns is being held captive in a room w...</td>\n",
       "    </tr>\n",
       "    <tr>\n",
       "      <th>6</th>\n",
       "      <td>7</td>\n",
       "      <td>L'amica (1969)</td>\n",
       "      <td>The beautiful but neglected wife of a brillia...</td>\n",
       "    </tr>\n",
       "    <tr>\n",
       "      <th>7</th>\n",
       "      <td>8</td>\n",
       "      <td>Ina Mina Dika (1989)</td>\n",
       "      <td>Vasu Inamdar (Ina) suffers from a disorder wh...</td>\n",
       "    </tr>\n",
       "    <tr>\n",
       "      <th>8</th>\n",
       "      <td>9</td>\n",
       "      <td>Equinox Special: Britain's Tornados (2005)</td>\n",
       "      <td>An insight into the tornados that hit Kensal ...</td>\n",
       "    </tr>\n",
       "    <tr>\n",
       "      <th>9</th>\n",
       "      <td>10</td>\n",
       "      <td>Press (2011)</td>\n",
       "      <td>Press is a story of young people overwhelmed ...</td>\n",
       "    </tr>\n",
       "  </tbody>\n",
       "</table>\n",
       "</div>"
      ],
      "text/plain": [
       "   ID                                         Title  \\\n",
       "0   1                         Edgar's Lunch (1998)    \n",
       "1   2                     La guerra de papá (1977)    \n",
       "2   3                  Off the Beaten Track (2010)    \n",
       "3   4                       Meu Amigo Hindu (2015)    \n",
       "4   5                            Er nu zhai (1955)    \n",
       "5   6                           Riddle Room (2016)    \n",
       "6   7                               L'amica (1969)    \n",
       "7   8                         Ina Mina Dika (1989)    \n",
       "8   9   Equinox Special: Britain's Tornados (2005)    \n",
       "9  10                                 Press (2011)    \n",
       "\n",
       "                                         Description  \n",
       "0   L.R. Brane loves his life - his car, his apar...  \n",
       "1   Spain, March 1964: Quico is a very naughty ch...  \n",
       "2   One year in the life of Albin and his family ...  \n",
       "3   His father has died, he hasn't spoken with hi...  \n",
       "4   Before he was known internationally as a mart...  \n",
       "5   Emily Burns is being held captive in a room w...  \n",
       "6   The beautiful but neglected wife of a brillia...  \n",
       "7   Vasu Inamdar (Ina) suffers from a disorder wh...  \n",
       "8   An insight into the tornados that hit Kensal ...  \n",
       "9   Press is a story of young people overwhelmed ...  "
      ]
     },
     "execution_count": 4,
     "metadata": {},
     "output_type": "execute_result"
    }
   ],
   "source": [
    "test_path='test_data.txt'\n",
    "test_data=pd.read_csv( test_path , sep=':::',engine='python',names=['ID', 'Title','Description'])\n",
    "test_data.head(10)"
   ]
  },
  {
   "cell_type": "code",
   "execution_count": 5,
   "id": "ed7fd474",
   "metadata": {},
   "outputs": [
    {
     "data": {
      "text/html": [
       "<div>\n",
       "<style scoped>\n",
       "    .dataframe tbody tr th:only-of-type {\n",
       "        vertical-align: middle;\n",
       "    }\n",
       "\n",
       "    .dataframe tbody tr th {\n",
       "        vertical-align: top;\n",
       "    }\n",
       "\n",
       "    .dataframe thead th {\n",
       "        text-align: right;\n",
       "    }\n",
       "</style>\n",
       "<table border=\"1\" class=\"dataframe\">\n",
       "  <thead>\n",
       "    <tr style=\"text-align: right;\">\n",
       "      <th></th>\n",
       "      <th>Title</th>\n",
       "      <th>Genre</th>\n",
       "      <th>Description</th>\n",
       "    </tr>\n",
       "  </thead>\n",
       "  <tbody>\n",
       "    <tr>\n",
       "      <th>count</th>\n",
       "      <td>54214</td>\n",
       "      <td>54214</td>\n",
       "      <td>54214</td>\n",
       "    </tr>\n",
       "    <tr>\n",
       "      <th>unique</th>\n",
       "      <td>54214</td>\n",
       "      <td>27</td>\n",
       "      <td>54086</td>\n",
       "    </tr>\n",
       "    <tr>\n",
       "      <th>top</th>\n",
       "      <td>Oscar et la dame rose (2009)</td>\n",
       "      <td>drama</td>\n",
       "      <td>Grammy - music award of the American academy ...</td>\n",
       "    </tr>\n",
       "    <tr>\n",
       "      <th>freq</th>\n",
       "      <td>1</td>\n",
       "      <td>13613</td>\n",
       "      <td>12</td>\n",
       "    </tr>\n",
       "  </tbody>\n",
       "</table>\n",
       "</div>"
      ],
      "text/plain": [
       "                                 Title    Genre  \\\n",
       "count                            54214    54214   \n",
       "unique                           54214       27   \n",
       "top      Oscar et la dame rose (2009)    drama    \n",
       "freq                                 1    13613   \n",
       "\n",
       "                                              Description  \n",
       "count                                               54214  \n",
       "unique                                              54086  \n",
       "top      Grammy - music award of the American academy ...  \n",
       "freq                                                   12  "
      ]
     },
     "execution_count": 5,
     "metadata": {},
     "output_type": "execute_result"
    }
   ],
   "source": [
    "train_data.describe()        # the DataFrame has only text or categorical data, the output may not be as informative"
   ]
  },
  {
   "cell_type": "code",
   "execution_count": 6,
   "id": "76a0b50b",
   "metadata": {},
   "outputs": [
    {
     "data": {
      "text/plain": [
       "array([' drama ', ' thriller ', ' adult ', ' documentary ', ' comedy ',\n",
       "       ' crime ', ' reality-tv ', ' horror ', ' sport ', ' animation ',\n",
       "       ' action ', ' fantasy ', ' short ', ' sci-fi ', ' music ',\n",
       "       ' adventure ', ' talk-show ', ' western ', ' family ', ' mystery ',\n",
       "       ' history ', ' news ', ' biography ', ' romance ', ' game-show ',\n",
       "       ' musical ', ' war '], dtype=object)"
      ]
     },
     "execution_count": 6,
     "metadata": {},
     "output_type": "execute_result"
    }
   ],
   "source": [
    "train_data['Genre'].unique() # will give unique values in particular in Genre column"
   ]
  },
  {
   "cell_type": "code",
   "execution_count": 7,
   "id": "72f3e2f7",
   "metadata": {
    "scrolled": true
   },
   "outputs": [
    {
     "name": "stdout",
     "output_type": "stream",
     "text": [
      "<class 'pandas.core.frame.DataFrame'>\n",
      "Index: 54214 entries, 1 to 54214\n",
      "Data columns (total 3 columns):\n",
      " #   Column       Non-Null Count  Dtype \n",
      "---  ------       --------------  ----- \n",
      " 0   Title        54214 non-null  object\n",
      " 1   Genre        54214 non-null  object\n",
      " 2   Description  54214 non-null  object\n",
      "dtypes: object(3)\n",
      "memory usage: 1.7+ MB\n"
     ]
    }
   ],
   "source": [
    "train_data.info()     # will give information about the data types and the count of non-null values for each column"
   ]
  },
  {
   "cell_type": "code",
   "execution_count": 8,
   "id": "68ec84fd",
   "metadata": {},
   "outputs": [
    {
     "data": {
      "text/plain": [
       "0"
      ]
     },
     "execution_count": 8,
     "metadata": {},
     "output_type": "execute_result"
    }
   ],
   "source": [
    "train_data.duplicated().sum()  # will give duplicate rows in a dataframe and sum will total number of duplicate rows in dataframe"
   ]
  },
  {
   "cell_type": "code",
   "execution_count": 9,
   "id": "5843c73c",
   "metadata": {},
   "outputs": [
    {
     "data": {
      "text/plain": [
       "Title          0\n",
       "Genre          0\n",
       "Description    0\n",
       "dtype: int64"
      ]
     },
     "execution_count": 9,
     "metadata": {},
     "output_type": "execute_result"
    }
   ],
   "source": [
    "train_data.isnull().sum()    # checking for missing values "
   ]
  },
  {
   "cell_type": "code",
   "execution_count": 10,
   "id": "1bdf08b8",
   "metadata": {},
   "outputs": [
    {
     "data": {
      "text/plain": [
       "(54214, 3)"
      ]
     },
     "execution_count": 10,
     "metadata": {},
     "output_type": "execute_result"
    }
   ],
   "source": [
    "train_data.shape   # tuple representing the dimensions of the DataFrame and will return the number of rows and columns in DataFrame"
   ]
  },
  {
   "cell_type": "code",
   "execution_count": 11,
   "id": "84326b0b",
   "metadata": {},
   "outputs": [
    {
     "data": {
      "text/plain": [
       "(54200, 3)"
      ]
     },
     "execution_count": 11,
     "metadata": {},
     "output_type": "execute_result"
    }
   ],
   "source": [
    "test_data.shape"
   ]
  },
  {
   "cell_type": "code",
   "execution_count": 12,
   "id": "293348f7",
   "metadata": {},
   "outputs": [
    {
     "data": {
      "text/html": [
       "<div>\n",
       "<style scoped>\n",
       "    .dataframe tbody tr th:only-of-type {\n",
       "        vertical-align: middle;\n",
       "    }\n",
       "\n",
       "    .dataframe tbody tr th {\n",
       "        vertical-align: top;\n",
       "    }\n",
       "\n",
       "    .dataframe thead th {\n",
       "        text-align: right;\n",
       "    }\n",
       "</style>\n",
       "<table border=\"1\" class=\"dataframe\">\n",
       "  <thead>\n",
       "    <tr style=\"text-align: right;\">\n",
       "      <th></th>\n",
       "      <th>Title</th>\n",
       "      <th>Genre</th>\n",
       "      <th>Description</th>\n",
       "      <th>length</th>\n",
       "    </tr>\n",
       "  </thead>\n",
       "  <tbody>\n",
       "    <tr>\n",
       "      <th>1</th>\n",
       "      <td>Oscar et la dame rose (2009)</td>\n",
       "      <td>drama</td>\n",
       "      <td>Listening in to a conversation between his do...</td>\n",
       "      <td>546</td>\n",
       "    </tr>\n",
       "    <tr>\n",
       "      <th>2</th>\n",
       "      <td>Cupid (1997)</td>\n",
       "      <td>thriller</td>\n",
       "      <td>A brother and sister with a past incestuous r...</td>\n",
       "      <td>184</td>\n",
       "    </tr>\n",
       "    <tr>\n",
       "      <th>3</th>\n",
       "      <td>Young, Wild and Wonderful (1980)</td>\n",
       "      <td>adult</td>\n",
       "      <td>As the bus empties the students for their fie...</td>\n",
       "      <td>650</td>\n",
       "    </tr>\n",
       "    <tr>\n",
       "      <th>4</th>\n",
       "      <td>The Secret Sin (1915)</td>\n",
       "      <td>drama</td>\n",
       "      <td>To help their unemployed father make ends mee...</td>\n",
       "      <td>1082</td>\n",
       "    </tr>\n",
       "    <tr>\n",
       "      <th>5</th>\n",
       "      <td>The Unrecovered (2007)</td>\n",
       "      <td>drama</td>\n",
       "      <td>The film's title refers not only to the un-re...</td>\n",
       "      <td>625</td>\n",
       "    </tr>\n",
       "    <tr>\n",
       "      <th>6</th>\n",
       "      <td>Quality Control (2011)</td>\n",
       "      <td>documentary</td>\n",
       "      <td>Quality Control consists of a series of 16mm ...</td>\n",
       "      <td>1609</td>\n",
       "    </tr>\n",
       "    <tr>\n",
       "      <th>7</th>\n",
       "      <td>\"Pink Slip\" (2009)</td>\n",
       "      <td>comedy</td>\n",
       "      <td>In tough economic times Max and Joey have all...</td>\n",
       "      <td>345</td>\n",
       "    </tr>\n",
       "    <tr>\n",
       "      <th>8</th>\n",
       "      <td>One Step Away (1985)</td>\n",
       "      <td>crime</td>\n",
       "      <td>Ron Petrie (Keanu Reeves) is a troubled teen ...</td>\n",
       "      <td>332</td>\n",
       "    </tr>\n",
       "    <tr>\n",
       "      <th>9</th>\n",
       "      <td>\"Desperate Hours\" (2016)</td>\n",
       "      <td>reality-tv</td>\n",
       "      <td>A sudden calamitous event, causing great loss...</td>\n",
       "      <td>456</td>\n",
       "    </tr>\n",
       "    <tr>\n",
       "      <th>10</th>\n",
       "      <td>Spirits (2014/I)</td>\n",
       "      <td>horror</td>\n",
       "      <td>Four high school students embark on a terrify...</td>\n",
       "      <td>426</td>\n",
       "    </tr>\n",
       "  </tbody>\n",
       "</table>\n",
       "</div>"
      ],
      "text/plain": [
       "                                 Title          Genre  \\\n",
       "1        Oscar et la dame rose (2009)          drama    \n",
       "2                        Cupid (1997)       thriller    \n",
       "3    Young, Wild and Wonderful (1980)          adult    \n",
       "4               The Secret Sin (1915)          drama    \n",
       "5              The Unrecovered (2007)          drama    \n",
       "6              Quality Control (2011)    documentary    \n",
       "7                  \"Pink Slip\" (2009)         comedy    \n",
       "8                One Step Away (1985)          crime    \n",
       "9            \"Desperate Hours\" (2016)     reality-tv    \n",
       "10                   Spirits (2014/I)         horror    \n",
       "\n",
       "                                          Description  length  \n",
       "1    Listening in to a conversation between his do...     546  \n",
       "2    A brother and sister with a past incestuous r...     184  \n",
       "3    As the bus empties the students for their fie...     650  \n",
       "4    To help their unemployed father make ends mee...    1082  \n",
       "5    The film's title refers not only to the un-re...     625  \n",
       "6    Quality Control consists of a series of 16mm ...    1609  \n",
       "7    In tough economic times Max and Joey have all...     345  \n",
       "8    Ron Petrie (Keanu Reeves) is a troubled teen ...     332  \n",
       "9    A sudden calamitous event, causing great loss...     456  \n",
       "10   Four high school students embark on a terrify...     426  "
      ]
     },
     "execution_count": 12,
     "metadata": {},
     "output_type": "execute_result"
    }
   ],
   "source": [
    "train_data['length']=train_data['Description'].apply(len)    # creating a new column called length and finding number of characters in each Description of dataframe\n",
    "train_data.head(10)"
   ]
  },
  {
   "cell_type": "code",
   "execution_count": 13,
   "id": "fa1be2d4",
   "metadata": {},
   "outputs": [
    {
     "data": {
      "text/plain": [
       "Genre\n",
       " drama           13613\n",
       " documentary     13096\n",
       " comedy           7447\n",
       " short            5073\n",
       " horror           2204\n",
       " thriller         1591\n",
       " action           1315\n",
       " western          1032\n",
       " reality-tv        884\n",
       " family            784\n",
       " adventure         775\n",
       " music             731\n",
       " romance           672\n",
       " sci-fi            647\n",
       " adult             590\n",
       " crime             505\n",
       " animation         498\n",
       " sport             432\n",
       " talk-show         391\n",
       " fantasy           323\n",
       " mystery           319\n",
       " musical           277\n",
       " biography         265\n",
       " history           243\n",
       " game-show         194\n",
       " news              181\n",
       " war               132\n",
       "Name: count, dtype: int64"
      ]
     },
     "execution_count": 13,
     "metadata": {},
     "output_type": "execute_result"
    }
   ],
   "source": [
    "counts = train_data.Genre.value_counts()   # using the value_counts() method on the 'Genre' column in train_data DataFrame, this method is used to count the occurrences of each unique value in a categorical column\n",
    "counts"
   ]
  },
  {
   "cell_type": "code",
   "execution_count": 14,
   "id": "29bff1f7",
   "metadata": {},
   "outputs": [
    {
     "data": {
      "image/png": "[encoded data removed]",
      "text/plain": [
       "<Figure size 864x1080 with 1 Axes>"
      ]
     },
     "metadata": {
      "needs_background": "light"
     },
     "output_type": "display_data"
    }
   ],
   "source": [
    "plt.figure(figsize=(12, 15))\n",
    "sns.countplot(data=train_data, y=\"Genre\", hue=\"Genre\", palette=\"YlGnBu\", order=train_data[\"Genre\"].value_counts().index, legend=True)\n",
    "plt.show()   # using matplotlib and seaborn to create a count plot to visualize the distribution of genres in your training data"
   ]
  },
  {
   "cell_type": "code",
   "execution_count": 15,
   "id": "2a0047bf",
   "metadata": {},
   "outputs": [
    {
     "data": {
      "image/png": "[encoded data removed]",
      "text/plain": [
       "<Figure size 864x576 with 1 Axes>"
      ]
     },
     "metadata": {
      "needs_background": "light"
     },
     "output_type": "display_data"
    }
   ],
   "source": [
    "plt.figure(figsize=(12,8))               # using matplotlib and seaborn to create a bar plot to visualize the distribution of genres in your training data\n",
    "counts = train_data.Genre.value_counts()\n",
    "sns.barplot(x=counts.index, y=counts, color='purple')\n",
    "plt.xlabel('Genre' ,fontsize=14, fontweight='bold')\n",
    "plt.ylabel('Count', fontsize=14, fontweight='bold')\n",
    "plt.title('Distribution of Genres', fontsize=16, fontweight='bold')\n",
    "plt.xticks(rotation=90, fontsize=14, fontweight='bold');"
   ]
  },
  {
   "cell_type": "code",
   "execution_count": 16,
   "id": "9e0f5eaa",
   "metadata": {},
   "outputs": [],
   "source": [
    "def data_processing(text):\n",
    "    stop_words = set(stopwords.words('english'))\n",
    "    text = text.lower()\n",
    "    text = re.sub(r'@\\S+', '', text)\n",
    "    text = re.sub(r'http\\S+', '', text)\n",
    "    text = re.sub(r'.pic\\S+', '', text)\n",
    "    text = re.sub(r'[^a-zA-Z+]', ' ', text)  # Change to replace non-characters with a space\n",
    "    text = \"\".join([i for i in text if i not in string.punctuation])\n",
    "    words = nltk.word_tokenize(text)\n",
    "    # Use the predefined stop_words variable instead of redefining it inside the function\n",
    "    text = \" \".join([i for i in words if i not in stop_words and len(i) > 2])\n",
    "    text = re.sub(r\"\\s+\", \" \", text).strip()  # Replace multiple spaces with a single space\n",
    "    return text\n",
    "\n",
    "train_data[\"TextCleaning\"] = train_data[\"Description\"].apply(data_processing)\n",
    "test_data[\"TextCleaning\"] = test_data[\"Description\"].apply(data_processing)"
   ]
  },
  {
   "cell_type": "code",
   "execution_count": 17,
   "id": "e57eddcc",
   "metadata": {},
   "outputs": [
    {
     "data": {
      "text/html": [
       "<div>\n",
       "<style scoped>\n",
       "    .dataframe tbody tr th:only-of-type {\n",
       "        vertical-align: middle;\n",
       "    }\n",
       "\n",
       "    .dataframe tbody tr th {\n",
       "        vertical-align: top;\n",
       "    }\n",
       "\n",
       "    .dataframe thead th {\n",
       "        text-align: right;\n",
       "    }\n",
       "</style>\n",
       "<table border=\"1\" class=\"dataframe\">\n",
       "  <thead>\n",
       "    <tr style=\"text-align: right;\">\n",
       "      <th></th>\n",
       "      <th>Title</th>\n",
       "      <th>Genre</th>\n",
       "      <th>Description</th>\n",
       "      <th>length</th>\n",
       "      <th>TextCleaning</th>\n",
       "    </tr>\n",
       "  </thead>\n",
       "  <tbody>\n",
       "    <tr>\n",
       "      <th>1</th>\n",
       "      <td>Oscar et la dame rose (2009)</td>\n",
       "      <td>drama</td>\n",
       "      <td>Listening in to a conversation between his do...</td>\n",
       "      <td>546</td>\n",
       "      <td>listening conversation doctor parents year old...</td>\n",
       "    </tr>\n",
       "    <tr>\n",
       "      <th>2</th>\n",
       "      <td>Cupid (1997)</td>\n",
       "      <td>thriller</td>\n",
       "      <td>A brother and sister with a past incestuous r...</td>\n",
       "      <td>184</td>\n",
       "      <td>brother sister past incestuous relationship cu...</td>\n",
       "    </tr>\n",
       "    <tr>\n",
       "      <th>3</th>\n",
       "      <td>Young, Wild and Wonderful (1980)</td>\n",
       "      <td>adult</td>\n",
       "      <td>As the bus empties the students for their fie...</td>\n",
       "      <td>650</td>\n",
       "      <td>bus empties students field trip museum natural...</td>\n",
       "    </tr>\n",
       "    <tr>\n",
       "      <th>4</th>\n",
       "      <td>The Secret Sin (1915)</td>\n",
       "      <td>drama</td>\n",
       "      <td>To help their unemployed father make ends mee...</td>\n",
       "      <td>1082</td>\n",
       "      <td>help unemployed father make ends meet edith tw...</td>\n",
       "    </tr>\n",
       "    <tr>\n",
       "      <th>5</th>\n",
       "      <td>The Unrecovered (2007)</td>\n",
       "      <td>drama</td>\n",
       "      <td>The film's title refers not only to the un-re...</td>\n",
       "      <td>625</td>\n",
       "      <td>film title refers recovered bodies ground zero...</td>\n",
       "    </tr>\n",
       "    <tr>\n",
       "      <th>...</th>\n",
       "      <td>...</td>\n",
       "      <td>...</td>\n",
       "      <td>...</td>\n",
       "      <td>...</td>\n",
       "      <td>...</td>\n",
       "    </tr>\n",
       "    <tr>\n",
       "      <th>54210</th>\n",
       "      <td>\"Bonino\" (1953)</td>\n",
       "      <td>comedy</td>\n",
       "      <td>This short-lived NBC live sitcom centered on ...</td>\n",
       "      <td>507</td>\n",
       "      <td>short lived nbc live sitcom centered bonino wo...</td>\n",
       "    </tr>\n",
       "    <tr>\n",
       "      <th>54211</th>\n",
       "      <td>Dead Girls Don't Cry (????)</td>\n",
       "      <td>horror</td>\n",
       "      <td>The NEXT Generation of EXPLOITATION. The sist...</td>\n",
       "      <td>781</td>\n",
       "      <td>next generation exploitation sisters kapa bay ...</td>\n",
       "    </tr>\n",
       "    <tr>\n",
       "      <th>54212</th>\n",
       "      <td>Ronald Goedemondt: Ze bestaan echt (2008)</td>\n",
       "      <td>documentary</td>\n",
       "      <td>Ze bestaan echt, is a stand-up comedy about g...</td>\n",
       "      <td>255</td>\n",
       "      <td>bestaan echt stand comedy growing facing fears...</td>\n",
       "    </tr>\n",
       "    <tr>\n",
       "      <th>54213</th>\n",
       "      <td>Make Your Own Bed (1944)</td>\n",
       "      <td>comedy</td>\n",
       "      <td>Walter and Vivian live in the country and hav...</td>\n",
       "      <td>642</td>\n",
       "      <td>walter vivian live country difficult time keep...</td>\n",
       "    </tr>\n",
       "    <tr>\n",
       "      <th>54214</th>\n",
       "      <td>Nature's Fury: Storm of the Century (2006)</td>\n",
       "      <td>history</td>\n",
       "      <td>On Labor Day Weekend, 1935, the most intense ...</td>\n",
       "      <td>311</td>\n",
       "      <td>labor day weekend intense hurricane ever make ...</td>\n",
       "    </tr>\n",
       "  </tbody>\n",
       "</table>\n",
       "<p>54214 rows × 5 columns</p>\n",
       "</div>"
      ],
      "text/plain": [
       "                                              Title          Genre  \\\n",
       "1                     Oscar et la dame rose (2009)          drama    \n",
       "2                                     Cupid (1997)       thriller    \n",
       "3                 Young, Wild and Wonderful (1980)          adult    \n",
       "4                            The Secret Sin (1915)          drama    \n",
       "5                           The Unrecovered (2007)          drama    \n",
       "...                                             ...            ...   \n",
       "54210                              \"Bonino\" (1953)         comedy    \n",
       "54211                  Dead Girls Don't Cry (????)         horror    \n",
       "54212    Ronald Goedemondt: Ze bestaan echt (2008)    documentary    \n",
       "54213                     Make Your Own Bed (1944)         comedy    \n",
       "54214   Nature's Fury: Storm of the Century (2006)        history    \n",
       "\n",
       "                                             Description  length  \\\n",
       "1       Listening in to a conversation between his do...     546   \n",
       "2       A brother and sister with a past incestuous r...     184   \n",
       "3       As the bus empties the students for their fie...     650   \n",
       "4       To help their unemployed father make ends mee...    1082   \n",
       "5       The film's title refers not only to the un-re...     625   \n",
       "...                                                  ...     ...   \n",
       "54210   This short-lived NBC live sitcom centered on ...     507   \n",
       "54211   The NEXT Generation of EXPLOITATION. The sist...     781   \n",
       "54212   Ze bestaan echt, is a stand-up comedy about g...     255   \n",
       "54213   Walter and Vivian live in the country and hav...     642   \n",
       "54214   On Labor Day Weekend, 1935, the most intense ...     311   \n",
       "\n",
       "                                            TextCleaning  \n",
       "1      listening conversation doctor parents year old...  \n",
       "2      brother sister past incestuous relationship cu...  \n",
       "3      bus empties students field trip museum natural...  \n",
       "4      help unemployed father make ends meet edith tw...  \n",
       "5      film title refers recovered bodies ground zero...  \n",
       "...                                                  ...  \n",
       "54210  short lived nbc live sitcom centered bonino wo...  \n",
       "54211  next generation exploitation sisters kapa bay ...  \n",
       "54212  bestaan echt stand comedy growing facing fears...  \n",
       "54213  walter vivian live country difficult time keep...  \n",
       "54214  labor day weekend intense hurricane ever make ...  \n",
       "\n",
       "[54214 rows x 5 columns]"
      ]
     },
     "execution_count": 17,
     "metadata": {},
     "output_type": "execute_result"
    }
   ],
   "source": [
    "train_data"
   ]
  },
  {
   "cell_type": "markdown",
   "id": "e1690d39",
   "metadata": {},
   "source": [
    "# Using TF-IDF to Vectorize the Data"
   ]
  },
  {
   "cell_type": "code",
   "execution_count": 35,
   "id": "46575940",
   "metadata": {},
   "outputs": [],
   "source": [
    "vectorizer = TfidfVectorizer()\n",
    "\n",
    "x_train = vectorizer.fit_transform(train_data[\"TextCleaning\"])\n",
    "x_test = vectorizer.transform(test_data[\"TextCleaning\"])"
   ]
  },
  {
   "cell_type": "markdown",
   "id": "a17b7b1b",
   "metadata": {},
   "source": [
    "# Split the data into train data and test data"
   ]
  },
  {
   "cell_type": "code",
   "execution_count": 36,
   "id": "235c78e2",
   "metadata": {},
   "outputs": [],
   "source": [
    "x = x_train\n",
    "y = train_data[\"Genre\"]\n",
    "\n",
    "x_train, x_test, y_train, y_test = train_test_split(x, y, test_size= 0.2, random_state=42)"
   ]
  },
  {
   "cell_type": "code",
   "execution_count": 37,
   "id": "d5a75bcc",
   "metadata": {},
   "outputs": [
    {
     "name": "stdout",
     "output_type": "stream",
     "text": [
      "Size of x_train:  (43371, 116601)\n",
      "Size of y_train:  (43371,)\n",
      "Size of x_test:  (10843, 116601)\n",
      "Size of y_test:  (10843,)\n"
     ]
    }
   ],
   "source": [
    "print(\"Size of x_train: \", (x_train.shape))\n",
    "print(\"Size of y_train: \", (y_train.shape))\n",
    "print(\"Size of x_test: \", (x_test.shape))\n",
    "print(\"Size of y_test: \", (y_test.shape))"
   ]
  },
  {
   "cell_type": "markdown",
   "id": "1a021fa8",
   "metadata": {},
   "source": [
    "# Train the model\n"
   ]
  },
  {
   "cell_type": "code",
   "execution_count": 38,
   "id": "d47b70ad",
   "metadata": {},
   "outputs": [],
   "source": [
    "model1 = LogisticRegression()\n",
    "model3 = MultinomialNB()"
   ]
  },
  {
   "cell_type": "code",
   "execution_count": 39,
   "id": "f97b90c0",
   "metadata": {},
   "outputs": [],
   "source": [
    "columns=['LogisticRegression','MultinomialNB']\n",
    "result=[]"
   ]
  },
  {
   "cell_type": "code",
   "execution_count": 40,
   "id": "c49dc4b0",
   "metadata": {},
   "outputs": [],
   "source": [
    "def cal(model):\n",
    "    model.fit(x_train, y_train)\n",
    "    y_pred = model.predict(x_test)\n",
    "    accuracy = accuracy_score(y_pred,y_test)\n",
    "    result.append(accuracy)\n",
    "    \n",
    "    print(\"Model Evaluation on Test Data\")\n",
    "    print(model)\n",
    "    print(accuracy)"
   ]
  },
  {
   "cell_type": "markdown",
   "id": "091af02f",
   "metadata": {},
   "source": [
    "# Logistic Regression Model"
   ]
  },
  {
   "cell_type": "code",
   "execution_count": 41,
   "id": "4a3c7d4a",
   "metadata": {},
   "outputs": [
    {
     "name": "stdout",
     "output_type": "stream",
     "text": [
      "Model Evaluation on Test Data\n",
      "LogisticRegression()\n",
      "0.5774232223554366\n"
     ]
    },
    {
     "name": "stderr",
     "output_type": "stream",
     "text": [
      "C:\\Users\\acer\\anaconda3\\lib\\site-packages\\sklearn\\linear_model\\_logistic.py:460: ConvergenceWarning: lbfgs failed to converge (status=1):\n",
      "STOP: TOTAL NO. of ITERATIONS REACHED LIMIT.\n",
      "\n",
      "Increase the number of iterations (max_iter) or scale the data as shown in:\n",
      "    https://scikit-learn.org/stable/modules/preprocessing.html\n",
      "Please also refer to the documentation for alternative solver options:\n",
      "    https://scikit-learn.org/stable/modules/linear_model.html#logistic-regression\n",
      "  n_iter_i = _check_optimize_result(\n"
     ]
    }
   ],
   "source": [
    "cal(model1)"
   ]
  },
  {
   "cell_type": "markdown",
   "id": "f28cd432",
   "metadata": {},
   "source": [
    "# Naive Bayes Model"
   ]
  },
  {
   "cell_type": "code",
   "execution_count": null,
   "id": "1bc708ef",
   "metadata": {},
   "outputs": [],
   "source": [
    "# Hyperparameter tuning for MultinomialNB\n",
    "param_grid_nb = {'alpha': [0.001, 0.01, 0.1, 1, 10]}\n",
    "grid_search_nb = GridSearchCV(MultinomialNB(), param_grid_nb, cv=5, scoring='accuracy')\n",
    "grid_search_nb.fit(x_train, y_train)\n",
    "best_nb = grid_search_nb.best_estimator_"
   ]
  },
  {
   "cell_type": "code",
   "execution_count": 42,
   "id": "6f96238f",
   "metadata": {},
   "outputs": [
    {
     "name": "stdout",
     "output_type": "stream",
     "text": [
      "Model Evaluation on Test Data\n",
      "MultinomialNB()\n",
      "0.4460942543576501\n"
     ]
    }
   ],
   "source": [
    "cal(model3)"
   ]
  },
  {
   "cell_type": "code",
   "execution_count": 43,
   "id": "92624efa",
   "metadata": {},
   "outputs": [],
   "source": [
    "final_result = pd.DataFrame({'Algorithm':columns, 'Accuracy':result}) "
   ]
  },
  {
   "cell_type": "code",
   "execution_count": 44,
   "id": "c8486b57",
   "metadata": {},
   "outputs": [
    {
     "data": {
      "text/html": [
       "<div>\n",
       "<style scoped>\n",
       "    .dataframe tbody tr th:only-of-type {\n",
       "        vertical-align: middle;\n",
       "    }\n",
       "\n",
       "    .dataframe tbody tr th {\n",
       "        vertical-align: top;\n",
       "    }\n",
       "\n",
       "    .dataframe thead th {\n",
       "        text-align: right;\n",
       "    }\n",
       "</style>\n",
       "<table border=\"1\" class=\"dataframe\">\n",
       "  <thead>\n",
       "    <tr style=\"text-align: right;\">\n",
       "      <th></th>\n",
       "      <th>Algorithm</th>\n",
       "      <th>Accuracy</th>\n",
       "    </tr>\n",
       "  </thead>\n",
       "  <tbody>\n",
       "    <tr>\n",
       "      <th>0</th>\n",
       "      <td>LogisticRegression</td>\n",
       "      <td>0.577423</td>\n",
       "    </tr>\n",
       "    <tr>\n",
       "      <th>1</th>\n",
       "      <td>MultinomialNB</td>\n",
       "      <td>0.446094</td>\n",
       "    </tr>\n",
       "  </tbody>\n",
       "</table>\n",
       "</div>"
      ],
      "text/plain": [
       "            Algorithm  Accuracy\n",
       "0  LogisticRegression  0.577423\n",
       "1       MultinomialNB  0.446094"
      ]
     },
     "execution_count": 44,
     "metadata": {},
     "output_type": "execute_result"
    }
   ],
   "source": [
    "final_result"
   ]
  },
  {
   "cell_type": "code",
   "execution_count": 46,
   "id": "4bce3684",
   "metadata": {},
   "outputs": [
    {
     "data": {
      "image/png": "[encoded data removed]",
      "text/plain": [
       "<Figure size 1440x360 with 1 Axes>"
      ]
     },
     "metadata": {
      "needs_background": "light"
     },
     "output_type": "display_data"
    }
   ],
   "source": [
    "fig,ax=plt.subplots(figsize=(20,5))\n",
    "plt.plot(final_result.Algorithm,result,label=\"Accuracy\")\n",
    "plt.legend()\n",
    "plt.show()"
   ]
  }
 ],
 "metadata": {
  "kernelspec": {
   "display_name": "Python 3 (ipykernel)",
   "language": "python",
   "name": "python3"
  },
  "language_info": {
   "codemirror_mode": {
    "name": "ipython",
    "version": 3
   },
   "file_extension": ".py",
   "mimetype": "text/x-python",
   "name": "python",
   "nbconvert_exporter": "python",
   "pygments_lexer": "ipython3",
   "version": "3.10.9"
  }
 },
 "nbformat": 4,
 "nbformat_minor": 5
}
